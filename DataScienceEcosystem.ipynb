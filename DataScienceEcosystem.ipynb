{
 "cells": [
  {
   "cell_type": "markdown",
   "id": "c3378826-a1d7-487e-bad8-28dcc5f258e8",
   "metadata": {},
   "source": [
    "# Data Science Tools and Ecosystem"
   ]
  },
  {
   "cell_type": "markdown",
   "id": "16821802-eef5-4cf4-be89-5581f31b3096",
   "metadata": {},
   "source": [
    "In this notebook, Data Science Tools and Ecosystem are summarized."
   ]
  },
  {
   "cell_type": "markdown",
   "id": "81772639-0a72-4cc9-89b1-21d14fee5111",
   "metadata": {},
   "source": [
    "**Objectives**\n",
    "- Popular Languages used\n",
    "- Popular libraries used\n",
    "- Open source data science tools\n",
    "- Examples of basic aritmetic expressions"
   ]
  },
  {
   "cell_type": "markdown",
   "id": "dcd107fe-4f91-4486-8478-73345e04d091",
   "metadata": {},
   "source": [
    "Some of the popular languages that Data Scientists use are:\n",
    "\n",
    "1. SQL\n",
    "2. Python\n",
    "3. R\n",
    "4. Java\n",
    "5. Julia"
   ]
  },
  {
   "cell_type": "markdown",
   "id": "6e507eff-f930-4f62-af7f-8be90f78f6a9",
   "metadata": {},
   "source": [
    "Some of the commonly used libraries used by Data Scientists include:\n",
    "1. Pandas\n",
    "2. Numpy\n",
    "3. Matplotlib\n",
    "4. Plotly\n",
    "5. Scikit-learn"
   ]
  },
  {
   "cell_type": "markdown",
   "id": "d6a7e481-d78a-49b8-8749-971444244659",
   "metadata": {},
   "source": [
    " | Data Science tools| \n",
    " |--------------------|\n",
    " | Python |\n",
    " | Project Jupyter |\n",
    " | RStudio |\n",
    " | Apache Hadoop |\n",
    " | Apache Spark |\n",
    " | Tensor Flow |"
   ]
  },
  {
   "cell_type": "markdown",
   "id": "cb004a84-4965-4ac3-bb38-c5a3f349694b",
   "metadata": {},
   "source": [
    "### Below are a few examples of evaluating arithmetic expressions in Python"
   ]
  },
  {
   "cell_type": "code",
   "execution_count": 7,
   "id": "0eb386ae-c381-4c48-ac60-353d73a95be4",
   "metadata": {},
   "outputs": [
    {
     "data": {
      "text/plain": [
       "17"
      ]
     },
     "execution_count": 7,
     "metadata": {},
     "output_type": "execute_result"
    }
   ],
   "source": [
    "##This a simple arithmetic expression to mutiply then add integers\n",
    "\n",
    "(3*4)+5"
   ]
  },
  {
   "cell_type": "code",
   "execution_count": 8,
   "id": "69012e77-5532-48f7-a174-1471c943f0ad",
   "metadata": {},
   "outputs": [
    {
     "data": {
      "text/plain": [
       "3.3333333333333335"
      ]
     },
     "execution_count": 8,
     "metadata": {},
     "output_type": "execute_result"
    }
   ],
   "source": [
    " ##This will convert 200 minutes to hours by diving by 60\n",
    "200/60"
   ]
  },
  {
   "cell_type": "markdown",
   "id": "54f694cf-2180-4c73-abea-f8abd250dea3",
   "metadata": {},
   "source": [
    "## Author\n",
    "\n",
    "Tarun"
   ]
  },
  {
   "cell_type": "code",
   "execution_count": null,
   "id": "c0330eec-7689-483c-8bc9-066afd439215",
   "metadata": {},
   "outputs": [],
   "source": []
  }
 ],
 "metadata": {
  "kernelspec": {
   "display_name": "Python 3 (ipykernel)",
   "language": "python",
   "name": "python3"
  },
  "language_info": {
   "codemirror_mode": {
    "name": "ipython",
    "version": 3
   },
   "file_extension": ".py",
   "mimetype": "text/x-python",
   "name": "python",
   "nbconvert_exporter": "python",
   "pygments_lexer": "ipython3",
   "version": "3.11.13"
  }
 },
 "nbformat": 4,
 "nbformat_minor": 5
}
